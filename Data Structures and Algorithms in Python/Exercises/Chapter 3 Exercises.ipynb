{
 "cells": [
  {
   "cell_type": "markdown",
   "metadata": {},
   "source": [
    "# Some of chapter 3 exercises\n",
    "## Reinforcement"
   ]
  },
  {
   "cell_type": "markdown",
   "metadata": {},
   "source": [
    "#### R-3.1 Graph the functions $8n, 4nlogn, 2{x}^{2} , {x}^{3} ,$ and  ${2}^{x}$ using a logarithmic scale for the x- and y-axes; that is, if the function value f (n) is y, plot this as a point with x-coordinate at log n and y-coordinate at log y."
   ]
  },
  {
   "cell_type": "code",
   "execution_count": 31,
   "metadata": {},
   "outputs": [
    {
     "data": {
      "image/png": "[encoded data removed]",
      "text/plain": [
       "<Figure size 432x288 with 1 Axes>"
      ]
     },
     "metadata": {
      "needs_background": "light"
     },
     "output_type": "display_data"
    }
   ],
   "source": [
    "import matplotlib.pyplot as plt\n",
    "import math\n",
    "\n",
    "scale = [i for i in range(5,50)]\n",
    "\n",
    "funcs = [[lambda x: 8*x, '8n'],\n",
    "        [lambda x: 4*x*math.log(x,2), '4logn'],\n",
    "        [lambda x: 2*x**2, '2n^2'],\n",
    "        [lambda x: x**3, 'n^3'],\n",
    "        [lambda x: 2**x, '2^n']]\n",
    "\n",
    "\n",
    "for i in range(len(funcs)):\n",
    "    funcs[i][0] = (list(map(funcs[i][0], scale)))\n",
    "\n",
    "for i in range(len(funcs)):\n",
    "    plt.plot(scale, funcs[i][0], label = funcs[i][1])\n",
    "\n",
    "plt.legend() \n",
    "plt.yscale('log')\n",
    "plt.xscale('log')\n"
   ]
  },
  {
   "cell_type": "markdown",
   "metadata": {},
   "source": [
    "#### R-3.2 The number of operations executed by algorithms $A$ and $B$ is $8nlogn$ and $2{x}^{2}$ , respectively. Determine n0 such that $A$ is better than $B$ for $n ≥ {n}_{0}$ .\n",
    "\n",
    "**sol.**\n",
    "\n",
    "$A$ is better than $B$ for $n$ greater than n when $8nlogn = 2{x}^{2}$, analytically this happens when $n = {n}_{0} = 1.2397$"
   ]
  },
  {
   "cell_type": "markdown",
   "metadata": {},
   "source": [
    "#### R-3.3 The number of operations executed by algorithms $A$ and $B$ is $40{n}^{2}$ and $2{n}^{3}$ , respectively. Determine ${n}_{0}$ such that $A$ is better than $B$ for $n ≥ {n}_{0}$ .\n",
    "\n",
    "**sol.**\n",
    "\n",
    "A is better than B for n greater than n when $40{n}^{2} = 2{n}^{3}$, analytically this happens whewn $n = {n}_{0} = 20$."
   ]
  },
  {
   "cell_type": "markdown",
   "metadata": {},
   "source": [
    "#### R-3.4 Give an example of a function that is plotted the same on a log-log scale as it is on a standard scale.\n",
    "\n",
    "**sol.**\n",
    "\n",
    "A constant function is plotted the same on each scale"
   ]
  },
  {
   "cell_type": "code",
   "execution_count": 13,
   "metadata": {},
   "outputs": [
    {
     "data": {
      "image/png": "[encoded data removed]",
      "text/plain": [
       "<Figure size 432x288 with 2 Axes>"
      ]
     },
     "metadata": {
      "needs_background": "light"
     },
     "output_type": "display_data"
    }
   ],
   "source": [
    "import matplotlib.pyplot as plt\n",
    "\n",
    "x = list(range(1,11))\n",
    "y = [3] * 10\n",
    "\n",
    "fig, axs = plt.subplots(2)\n",
    "axs[0].plot(x, y, ms=4)\n",
    "axs[0].set_title('Linear Scale')\n",
    "\n",
    "axs[1].plot(x, y, ms=4)\n",
    "axs[1].set_title('Logarithmic Scale')\n",
    "axs[1].set_xscale(\"log\")\n",
    "axs[1].set_yscale(\"log\")\n",
    "\n",
    "plt.subplots_adjust(hspace=0.5)"
   ]
  },
  {
   "cell_type": "markdown",
   "metadata": {},
   "source": [
    "#### R-3.5 Explain why the plot of the function x<sup>c</sup> is a straight line with slope c on a log-log scale.\n",
    "\n",
    "#### sol.\n",
    "\n",
    "if y = $x^{c}$, then log(y) = log($x^{c}$) = c\\*log(n), this is of the form y=mx with m as a slope on the log-log scale."
   ]
  },
  {
   "cell_type": "markdown",
   "metadata": {},
   "source": [
    "#### R-3.6 What is the sum of all the even numbers from 0 to 2n, for any positive integer n?\n",
    "\n",
    "#### sol.\n",
    "\n",
    "let the equation to calculate the sum of the numbers from 0 up to m for an integer m is:\n",
    "\n",
    "\\begin{gather*}\n",
    "\\sum_{i=0}^{m} i = \\frac{m(m+1)}{2}\n",
    "\\end{gather*}\n",
    "\n",
    "let m = 2n, then the sum of the numbers from 0 up to 2n for an integer n is:\n",
    "\n",
    "\\begin{gather*}\n",
    "\\sum_{i=0}^{2n} i = \\frac{2n(2n+1)}{2} = \\frac{4n^{2}+2n}{2}\\\\ = \\frac{2n(n+1)+2n^{2}}{2} = 2\\frac{n(n+1)}{2} + {n}^{2} = 2 \\sum_{i=0}^{n} i + {n}^{2}\n",
    "\\end{gather*}\n",
    "\n",
    "#### Mathematical Extension: \n",
    "    (Note that I do not know why I have done this part, but my curiousity have just pushed me to do so).\n",
    "\n",
    "if we want to get a formula to get the sum from 0 up to an integer $m$ from the sum from 0 upto one of its devisor $n$, if $m = kn$ ; where $k$ is an integer number:\n",
    "\n",
    "let $m = kn$, then the sum of the numbers from 0 up to $kn$; where n and k are both integers are:\n",
    "\n",
    "\\begin{gather*}\n",
    "\\sum_{i=0}^{m} i = \\sum_{i=0}^{kn} i = \\frac{kn(kn+1)}{2} = \\frac{{k}^{2}n^{2}+kn}{2}\\\\ = \\frac{kn(n+1)+({k}^{2}-k)n^{2}}{2}\\\\ = k\\frac{n(n+1)}{2} + \\frac{({k}^{2}-k)}{2}{n}^{2}\\\\ = k \\sum_{i=0}^{n} i + \\frac{({k}^{2}-k)}{2}{n}^{2}\n",
    "\\end{gather*}"
   ]
  },
  {
   "cell_type": "code",
   "execution_count": 47,
   "metadata": {},
   "outputs": [
    {
     "name": "stdout",
     "output_type": "stream",
     "text": [
      "74 7\n"
     ]
    },
    {
     "data": {
      "text/plain": [
       "True"
      ]
     },
     "execution_count": 47,
     "metadata": {},
     "output_type": "execute_result"
    }
   ],
   "source": [
    "import random as rnd\n",
    "\n",
    "rnd.seed()\n",
    "n = rnd.randint(1, 100)\n",
    "k = rnd.randint(1,10) # It would be time consuming if it is a large integer\n",
    "\n",
    "sum_n = 0\n",
    "sum_kn = 0\n",
    "\n",
    "for i in range(1,n+1):\n",
    "    sum_n+=i\n",
    "    \n",
    "for i in range(1,k*n+1):\n",
    "    sum_kn+=i\n",
    "\n",
    "print(n, k)\n",
    "\n",
    "sum_kn == (k*sum_n+((k**2 - k)/2)*n**2) # Checking the equation"
   ]
  },
  {
   "cell_type": "markdown",
   "metadata": {},
   "source": [
    "####  R-3.7 Show that the following two statements are equivalent:\n",
    "1. The running time of algorithm A is always $O(f(n))$.\n",
    "2. In the worst case, the running time of algorithm A is $O(f(n))$.\n",
    "\n",
    "**Sol.**\n",
    "\n",
    "If the running time of the worst case of the algorithm A is $O(f(n))$ , then there is a real constant $c > 0$ and an integer constant ${n}_{0} ≥ 1$ such that\n",
    "\\begin{align*}\n",
    "{f(n)}_{worst\\ case} \\le cg(n),\\ for\\ n ≥ {n}_{0} \n",
    "\\end{align*}\n",
    "as the worst case of an algorithm always greater than or equal to any other case running time of this algorithm:\n",
    "\\begin{align*}\n",
    "{f(n)}_{Any\\ case} \\le {f(n)}_{worst\\ case}\n",
    "\\end{align*}\n",
    "\n",
    "Using the fact that if a < b and b < c, then a < c, then:\n",
    "\\begin{gather*}\n",
    "{f(n)}_{Any\\ case} \\le cg(n)\n",
    "\\end{gather*}\n",
    "so the algorithm $A$ is $O(f(n))$."
   ]
  },
  {
   "cell_type": "markdown",
   "metadata": {},
   "source": [
    "#### R-3.8 Order the following functions by asymptotic growth rate.\n",
    "\\begin{gather*}\n",
    "4n log n + 2n,\\          {2}^{10},\\          {2}^{logn},\\\\\n",
    "3n + 100log n,\\ 4n,\\ {2}^{n},\\\\\n",
    "{n}^{2}+ 10n,\\ {n}^{3},\\ nlogn .\\\\\n",
    "\\end{gather*}\n",
    "\n",
    "**Sol.**\n",
    "\n",
    "In asymptotic growth rate:\n",
    "\n",
    "\\begin{gather*}\n",
    "{2}^{10} (constant) \\le {2}^{logn}\\ (=n) \\le 3n + 100logn \\le 4n \\le nlog n \\le 4nlogn + 2n \\le n^2 + 10n \\le n^3 \\le 2^n \n",
    "\\end{gather*}\n",
    "\n",
    "Note that both $3n + 100logn$ and $4n$ are $O(n)$, but $3n + 100logn$ is faster due to its constant. Likewise, $nlog$ and $4nlogn$, respectively."
   ]
  },
  {
   "cell_type": "markdown",
   "metadata": {},
   "source": [
    "**R-3.23 Give a big-Oh characterization, in terms of n, of the running time of the example1 function shown in Code Fragment 3.10.**\n",
    "\n",
    "```python\n",
    "def example1(S):\n",
    "    \"\"\"Return the sum of the elements in sequence S.\"\"\"\n",
    "    n = len(S)           # O(1)\n",
    "    total = 0            # O(1)\n",
    "    for j in range(n):   \n",
    "        total += S[j]    # O(n)\n",
    "    return total         # O(1)\n",
    "```\n",
    "\n",
    "The body of loop will be called n-times which $O(n)$, so the total function will be \n",
    "$O(1+1+n+1) = O(n)$"
   ]
  },
  {
   "cell_type": "markdown",
   "metadata": {},
   "source": [
    "**R-3.24 Give a big-Oh characterization, in terms of n, of the running time of the example2 function shown in Code Fragment 3.10.**\n",
    "\n",
    "```python\n",
    "def example2(S):\n",
    "    \"\"\"Return the sum of the elements with even index in sequence S.\"\"\"\n",
    "    n = len(S)                  # O(1)\n",
    "    total = 0                   # O(1)\n",
    "    for j in range(0, n, 2):    \n",
    "        total += S[j]           # O(n)\n",
    "    return total                # O(1)\n",
    "```\n",
    "\n",
    "The body of the loop will be called $n/2$ times which still $O(n)$ ,so the total function will be $O(1+1+n+1)$."
   ]
  },
  {
   "cell_type": "markdown",
   "metadata": {},
   "source": [
    "**R-3.25 Give a big-Oh characterization, in terms of n, of the running time of the example3 function shown in Code Fragment 3.10.**\n",
    "\n",
    "```python\n",
    "def example3(S):\n",
    "    \"\"\"Return the sum of the preﬁx sums of sequence S.\"\"\"\n",
    "    n = len(S)                  # O(1)\n",
    "    total = 0                   # O(1)\n",
    "    for j in range(n):          \n",
    "        for k in range(1+j):    \n",
    "            total += S[k]       # O(n^2)\n",
    "    return total                # O(1)\n",
    "```\n",
    "\n",
    "The body of the outer-loop (the inner-loop) is called $n$ times, the inner-loop body will be called $1 + 2 + 3 + · · · + n$ times, which implies $O(n^2)$ time.\n",
    "\n",
    "$O(1+1+n^2+1) = O(n)$"
   ]
  },
  {
   "cell_type": "markdown",
   "metadata": {},
   "source": [
    "**R-3.26 Give a big-Oh characterization, in terms of n, of the running time of the example4 function shown in Code Fragment 3.10.**\n",
    "\n",
    "```python\n",
    "def example4(S):\n",
    "    \"\"\"Return the sum of the preﬁx sums of sequence S.\"\"\"\n",
    "    n = len(S)                  # O(1)\n",
    "    preﬁx = 0                   # O(1) \n",
    "    total = 0                   # O(1)\n",
    "    for j in range(n):\n",
    "        preﬁx += S[j]           # O(n)\n",
    "        total += preﬁx          # O(n)\n",
    "    return total                # O(1)\n",
    "```\n",
    "\n",
    "The body of loop will be called n-times which $O(n)$, so the total function will be\n",
    "$O(1+1+1+n+n+1) = O(n)$"
   ]
  },
  {
   "cell_type": "markdown",
   "metadata": {},
   "source": [
    "**R-3.27 Give a big-Oh characterization, in terms of n, of the running time of the example4 function shown in Code Fragment 3.10.**\n",
    "\n",
    "```python\n",
    "def example5(A, B):              # assume that A and B have equal length\n",
    "    ”””Return the number of elements in B equal to the sum of preﬁx sums in A.”””\n",
    "    n = len(A)                   # O(1)\n",
    "    count = 0                    # O(1)\n",
    "    for i in range(n):\n",
    "        total = 0                # O(n)\n",
    "        for j in range(n):       \n",
    "            for k in range(1+j):\n",
    "                total += A[k]    # O(n^3)\n",
    "        if B[i] == total:        # O(n)\n",
    "            count += 1           # O(n)\n",
    "    return count                 # O(1)\n",
    "```\n",
    "The body of the outer-loop (the middle inner-loop) is called $n$ times, the  body of the middle inner-loop (the inner most loop) will be called $1 + 2 + 3 + · · · + n$ times, which implies $O(n^2)$ time, the body of inner most loop will be called $n^3$-times which $O(n^3)$, so the total function will be $O(n^3)$"
   ]
  },
  {
   "cell_type": "markdown",
   "metadata": {},
   "source": [
    "## Creativity"
   ]
  },
  {
   "cell_type": "markdown",
   "metadata": {},
   "source": [
    "**C-3.35 Assuming it is possible to sort n numbers in $O(n log n)$ time, show that it is possible to solve the three-way set disjointness problem in $O(n\\ logn)$ time.\n",
    "If you sort each set, it will take O(nlogn)*3 time, which is still O(nlogn).**\n",
    "\n",
    "**Sol.**\n",
    "\n",
    "A solution to this problem can be given by merging the three sequences and sorting them which will take $O(n\\ logn)$, if there is an element that occur in the three sequences, it will have a three successive occurences at the sorted sequence, then with a single flat loop iterating through the new sorted sequence we can solve the problem."
   ]
  },
  {
   "cell_type": "code",
   "execution_count": 27,
   "metadata": {},
   "outputs": [
    {
     "name": "stdout",
     "output_type": "stream",
     "text": [
      "False\n",
      "True\n"
     ]
    }
   ],
   "source": [
    "def disjoint(A, B, C):\n",
    "    '''\n",
    "    Return True if there is no element common to all three lists.\n",
    "    '''\n",
    "    tot = list(A) + list(B) + list(C)    # O(1)\n",
    "    tot.sort()                           # O(nlogn)\n",
    "    for i in range(len(tot)):            # O(n)\n",
    "        if tot[i:i+3] == 3*[tot[i]]:\n",
    "            return False               # we found a common value\n",
    "    return True\n",
    "\n",
    "\n",
    "A = {1, 2, 3}\n",
    "B = {1, 2, 4}\n",
    "C = {0, 2, 4}\n",
    "D = {0, 5, 3}\n",
    "\n",
    "print(disjoint(A, B, C))\n",
    "print(disjoint(A, B, D))"
   ]
  },
  {
   "cell_type": "markdown",
   "metadata": {},
   "source": [
    "**C-3.36 Describe an efﬁcient algorithm for ﬁnding the ten largest elements in a sequence of size n. What is the running time of your algorithm?**\n",
    "\n",
    "**Sol.**\n",
    "\n",
    "Like the previos problem, we cas sort the sequence in an dscending order, then we can get the first 10 elements of the sorted sequence, this would be O(nlogn)"
   ]
  },
  {
   "cell_type": "code",
   "execution_count": 33,
   "metadata": {},
   "outputs": [
    {
     "name": "stdout",
     "output_type": "stream",
     "text": [
      "[65, 7, 7, 6, 5, 5, 4, 4, 4, 3]\n",
      "[84, 84, 82, 82, 80, 74, 74, 72, 68, 42]\n",
      "[5, 4, 3, 2, 1]\n"
     ]
    }
   ],
   "source": [
    "def largest10(array):\n",
    "    array.sort(reverse = True)\n",
    "    if len(array)>=10:\n",
    "        return array[:10]\n",
    "    else:\n",
    "        return array\n",
    "\n",
    "\n",
    "print(largest10([1,2,3,4,5,6,7,4,3,2,65,7,5,4]))\n",
    "print(largest10([x^2+3*x for x in range(30)]))\n",
    "print(largest10([1,2,3,5,4]))"
   ]
  },
  {
   "cell_type": "markdown",
   "metadata": {},
   "source": [
    "\n",
    "\n",
    "We say that $f(n)$ is $O(g(n))$ if there is a real constant $c > 0$ and an integer $n_0 ≥ 1$ such that:\n",
    "\\begin{gather*}\n",
    "f (n) \\le cg(n),\\ for\\ n \\ge n_0.\n",
    "\\end{gather*}\n",
    "\n",
    "So, in our case with $O(n)$, if $f(n)$ exceeds $cn$ at arbitrarily large values of $n$ for every $c > 0$, then $f(n)$ is NOT $O(g(n))$. \n",
    "\n",
    "Similarly, we say that $f(n)$ is $Ω(g(n))$, if there is a real constant $c > 0$ and an integer constant $n_0 ≥ 1$ such that\n",
    "\\begin{gather*}\n",
    "f(n) \\ge cg(n),\\ for\\ n \\ge n_0.\n",
    "\\end{gather*}\n",
    "\n",
    "So, in our case with $Ω(n)$, if $f(n)$ is less than $cn$ at arbitrarily large values of $n$ for every $c > 0$, then $f(n)$ is NOT $Ω(g(n))$.\n",
    "\n",
    "So, we need a function that grows and shrinks at the same time\n",
    "without bound. An example of such type of functions can be a function with a sinusoidal part like:\n",
    "\n",
    "\\begin{gather*}\n",
    "f(n) = n^2sin(n \\pi)^2\n",
    "\\end{gather*}\n",
    "\n",
    "which will equal $0$ whenever $n$ is  odd, and will equal $n^2$ whenever $is$ even"
   ]
  },
  {
   "cell_type": "code",
   "execution_count": 167,
   "metadata": {},
   "outputs": [
    {
     "data": {
      "text/plain": [
       "[<matplotlib.lines.Line2D at 0x7f036bc702b0>]"
      ]
     },
     "execution_count": 167,
     "metadata": {},
     "output_type": "execute_result"
    },
    {
     "data": {
      "image/png": "[encoded data removed]",
      "text/plain": [
       "<Figure size 432x288 with 1 Axes>"
      ]
     },
     "metadata": {
      "needs_background": "light"
     },
     "output_type": "display_data"
    }
   ],
   "source": [
    "import matplotlib.pyplot as plt\n",
    "import math\n",
    "\n",
    "x = list(range(1000))\n",
    "y = list(map(lambda x: x**2*(math.sin(x*math.pi)**2), x))\n",
    "\n",
    "plt.plot(x, y)"
   ]
  }
 ],
 "metadata": {
  "kernelspec": {
   "display_name": "Python 3",
   "language": "python",
   "name": "python3"
  },
  "language_info": {
   "codemirror_mode": {
    "name": "ipython",
    "version": 3
   },
   "file_extension": ".py",
   "mimetype": "text/x-python",
   "name": "python",
   "nbconvert_exporter": "python",
   "pygments_lexer": "ipython3",
   "version": "3.8.8"
  }
 },
 "nbformat": 4,
 "nbformat_minor": 2
}
